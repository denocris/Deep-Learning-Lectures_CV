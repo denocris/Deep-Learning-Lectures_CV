{
  "nbformat": 4,
  "nbformat_minor": 0,
  "metadata": {
    "colab": {
      "name": "meetup_denoising_variational_autoencoder.ipynb",
      "version": "0.3.2",
      "provenance": [],
      "collapsed_sections": [],
      "include_colab_link": true
    },
    "kernelspec": {
      "name": "python3",
      "display_name": "Python 3"
    },
    "accelerator": "GPU"
  },
  "cells": [
    {
      "cell_type": "markdown",
      "metadata": {
        "id": "view-in-github",
        "colab_type": "text"
      },
      "source": [
        "<a href=\"https://colab.research.google.com/github/denocris/Deep-Learning-Lectures_CV/blob/master/meetup_denoising_variational_autoencoder.ipynb\" target=\"_parent\"><img src=\"https://colab.research.google.com/assets/colab-badge.svg\" alt=\"Open In Colab\"/></a>"
      ]
    },
    {
      "cell_type": "markdown",
      "metadata": {
        "id": "8fz1FL9F5D1t",
        "colab_type": "text"
      },
      "source": [
        "<h1><center> Denoising Variational Autoencoder with TF 2.0 </center></h1>\n"
      ]
    },
    {
      "cell_type": "markdown",
      "metadata": {
        "id": "3qy4qOigfQd_",
        "colab_type": "text"
      },
      "source": [
        "  \n",
        "  <center>  <img src=  https://drive.google.com/uc?id=1NizfTetPzdNakOwyTuA2y-MQYnZEqNYU \" width=\"700\">  </center> \n",
        "  <center>  <img src=https://drive.google.com/uc?id=1A6QMi7EGwnyeee8DsD7UJ0V_ssWyCNNE \" width=\"700\">  </center> \n"
      ]
    },
    {
      "cell_type": "markdown",
      "metadata": {
        "id": "UGbc-ia5FFW0",
        "colab_type": "text"
      },
      "source": [
        "This notebook con be found [here](https://github.com/denocris/MHPC-DeepLearning-Lectures) on my  GitHub. I suggest you to open it in Google Colab! "
      ]
    },
    {
      "cell_type": "markdown",
      "metadata": {
        "id": "p19lrvbvvYs-",
        "colab_type": "text"
      },
      "source": [
        "### Some Refs\n",
        "\n",
        "* [What is a Variational Autoencoder?](https://jaan.io/what-is-variational-autoencoder-vae-tutorial/)\n",
        "\n",
        "* [Variational Autoencoder by Jonathan Hui](https://jhui.github.io/2017/03/06/Variational-autoencoders/)\n",
        "\n",
        "* [Variational autoencoders by Jeremy Jordan](https://www.jeremyjordan.me/variational-autoencoders/)\n",
        "\n",
        "* Original Papers: [Kingma et al.](https://arxiv.org/abs/1312.6114) and [Rezende et al.](https://arxiv.org/abs/1401.4082)\n",
        "\n",
        "\n",
        "### What are we going to learn?\n",
        "\n",
        "* Working on Google Colaboratory\n",
        "\n",
        "* First time ever using the new TensorFlow 2.0\n",
        "\n",
        "* Important [Information Theory](https://www.amazon.com/Elements-Information-Theory-Telecommunications-Processing/dp/0471241954) Concepts \n",
        "\n",
        "* How to build a Denoising VAE in TensorFlow"
      ]
    },
    {
      "cell_type": "code",
      "metadata": {
        "id": "RGnyIv25UfEa",
        "colab_type": "code",
        "colab": {}
      },
      "source": [
        "!pip install -q tensorflow-gpu==2.0.0-alpha0"
      ],
      "execution_count": 0,
      "outputs": []
    },
    {
      "cell_type": "code",
      "metadata": {
        "id": "8jzB82LX5C3I",
        "colab_type": "code",
        "colab": {}
      },
      "source": [
        "import tensorflow as tf"
      ],
      "execution_count": 0,
      "outputs": []
    },
    {
      "cell_type": "code",
      "metadata": {
        "id": "iZ53eL54UUib",
        "colab_type": "code",
        "outputId": "4d0bf1bd-f9f9-42ee-f192-ff40d2b08213",
        "colab": {
          "base_uri": "https://localhost:8080/",
          "height": 34
        }
      },
      "source": [
        "print(tf.__version__)"
      ],
      "execution_count": 0,
      "outputs": [
        {
          "output_type": "stream",
          "text": [
            "2.0.0-alpha0\n"
          ],
          "name": "stdout"
        }
      ]
    },
    {
      "cell_type": "code",
      "metadata": {
        "id": "iuCO5ftpX6-w",
        "colab_type": "code",
        "colab": {}
      },
      "source": [
        "import math as m\n",
        "import numpy as np\n",
        "import sys\n",
        "import os\n",
        "import matplotlib.pyplot as plt\n",
        "import time\n",
        "\n",
        "\n",
        "from IPython import display"
      ],
      "execution_count": 0,
      "outputs": []
    },
    {
      "cell_type": "markdown",
      "metadata": {
        "id": "DdGoqFhn9j2l",
        "colab_type": "text"
      },
      "source": [
        "\n",
        "<img src=\"https://drive.google.com/file/d/1Y52T3Z4dwRU4Rq5L5bEVYh0d3kU0aVB8/view?usp=sharing\" alt=\"\">\n"
      ]
    },
    {
      "cell_type": "markdown",
      "metadata": {
        "id": "CtrqdhkMID39",
        "colab_type": "text"
      },
      "source": [
        "## <h1><center>  Information Theory Background \n",
        "\n",
        "\n",
        "### Self-Information\n",
        "\n",
        "The idea behind self-information is the following\n",
        "\n",
        "* if an event always occurs, we associate it with a smaller amount of information. It will not suprise us!\n",
        "* On the other side, a rare event is associated with a huge amount of information. It will suprise us!\n",
        "\n",
        "I am not surprise to see the sunrise every morning (likely event). Instead,  I would be really suprised if tomorrow the Sun will not rise (unlikely event). This amount of surprise or self-information of the event $x$ is quantified by\n",
        "\n",
        "$$I(x) = - \\log p(x),$$\n",
        "\n",
        "where $p(x)$ is the probability of the event $x$. If $p(x)=1$, then self-info is zero. A rare event instead has a huge surpise factor.\n",
        "\n",
        "### Shannon Entropy \n",
        "\n",
        "In terms of self-info, Shannon Entropy is the average self-information (expected value) over all possible values of X.\n",
        "The entropy for a probability $p(x)$ distribution is\n",
        "\n",
        "$$ S = - \\sum_i p(x_i) \\log p(x_i),$$\n",
        "\n",
        "where we assume we know the probability $p$ for each outcome $i$. If we use $log_2$  for our calculation we can interpret entropy as *the minimum number of bits it would take us to encode our information*.\n",
        "\n",
        "For continous variables, we can use the integral form\n",
        "\n",
        "$$ S = - \\int  p(x) \\log p(x) \\, dx,$$\n",
        "\n",
        "where now $p(x)$ is taking the role of a probability density function (PDF). Take in mind that a broad probability density has higher entropy than a narrowed one (think about Gaussian distribution vs delta Dirac, which has $S=0$).\n",
        "\n",
        "In both discrete and continous formulation, we are computing the expectation (i.e. average) of the negative log-probability (i.e. self-info) which is the theoretical minimum encoding size of the information from the event $x$. The same formula is usually written as\n",
        "\n",
        "$$S = \\mathbb E _{\\, x \\sim p} \\left[ -\\log p(x) \\right],$$\n",
        "\n",
        "where $x \\sim p$ means that we calculate the expectation with the probability distribution $p$."
      ]
    },
    {
      "cell_type": "markdown",
      "metadata": {
        "id": "8BEow_oxYSje",
        "colab_type": "text"
      },
      "source": [
        "Let's give an example! \n",
        "\n",
        "<!---\n",
        "  REMIND to change open with uc\n",
        " https://drive.google.com/open?id=1Y52T3Z4dwRU4Rq5L5bEVYh0d3kU0aVB8\n",
        "--->\n",
        "\n",
        "  <center>  <img src=https://drive.google.com/uc?id=1GaAeK8xIZCVDRb-oHQNUzRuoOprFh1eS \" width=\"700\">  </center> "
      ]
    },
    {
      "cell_type": "markdown",
      "metadata": {
        "id": "K5E4znWyYWDT",
        "colab_type": "text"
      },
      "source": [
        "Let's say we have to pass a message about what drink Cristiano would take during an event. In general, Cristiano loves [Midori Sour](https://drizly.com/midori-sour/r-b972d5282bec6fe8) , Daiquiri, Spritz and Wine.\n",
        "\n",
        "On Monday, Cristiano loves to listen Jazz and the probability distribution of his choice is: \n",
        "\n",
        "$$P(\\text Midori ) =  P(\\text Daiquiri ) = P(\\text Spritz ) = P(\\text Wine ) = 0.25,$$\n",
        "\n",
        "while the corresponding entropy\n",
        "\n",
        "$$S = - \\frac{1}{4} \\log \\frac{1}{4} - \\frac{1}{4} \\log \\frac{1}{4} - \\frac{1}{4} \\log \\frac{1}{4} - \\frac{1}{4} \\log \\frac{1}{4} = 2$$\n",
        "\n",
        "On Wednesday, he usually meets with some friends after work: \n",
        "\n",
        "$$P(\\text Midori ) = 0.125,\\;  P(\\text Daiquiri ) =0.125,\\;  P(\\text Spritz ) = 0.5,\\; P(\\text  Wine ) = 0.25,$$\n",
        "\n",
        "while the corresponding entropy\n",
        "\n",
        "$$S = - \\frac{1}{8} \\log \\frac{1}{8} - \\frac{1}{8} \\log \\frac{1}{8} - \\frac{1}{2} \\log \\frac{1}{2} - \\frac{1}{4} \\log \\frac{1}{4} = 1.75$$\n",
        "\n",
        "\n",
        "On Thursday, he often goes to an event where cocktail attire dress code is required\n",
        "\n",
        "$$P(\\text Midori ) = 0.95,\\;  P(\\text Daiquiri ) =0.02,\\;  P(\\text Spritz ) = 0.018,\\; P(\\text  Wine ) = 0.012,$$\n",
        "\n",
        "and the corresponding entropy\n",
        "\n",
        "$$S = - 0.95 \\log 0.95 - 0.02 \\log 0.02 - 0.018 \\log 0.018 - 0.012 \\log 0.012 = 0.364$$"
      ]
    },
    {
      "cell_type": "code",
      "metadata": {
        "id": "KReLhZDvICt1",
        "colab_type": "code",
        "outputId": "c85c896c-7150-4921-946f-e6f66a64984b",
        "colab": {
          "base_uri": "https://localhost:8080/",
          "height": 67
        }
      },
      "source": [
        "# On Monday, all drinks have equal probability to be chose\n",
        "entropy_1 = -0.25*m.log(0.25,2)-0.25*m.log(0.25,2)-0.25*m.log(0.25,2)-0.25*m.log(0.25,2)\n",
        "print('On Monday, high entropy: ', entropy_1)\n",
        "\n",
        "# On Wednesday, some are more probable than others\n",
        "entropy_2 = -0.5*m.log(0.5,2)-0.25*m.log(0.25,2)-0.125*m.log(0.125,2)-0.125*m.log(0.125,2)\n",
        "print('On Wednesday, medium entropy: ', entropy_2)\n",
        "\n",
        "# On Thursday, one drink is by far the most probable\n",
        "entropy_3 = -0.95*m.log(0.95,2)-0.02*m.log(0.02,2)-0.018*m.log(0.018,2)-0.012*m.log(0.012,2)\n",
        "print('On Thursday, low entropy: ', entropy_3)"
      ],
      "execution_count": 0,
      "outputs": [
        {
          "output_type": "stream",
          "text": [
            "On Monday, high entropy:  2.0\n",
            "On Wednesday, medium entropy:  1.75\n",
            "On Thursday, low entropy:  0.36407300467232967\n"
          ],
          "name": "stdout"
        }
      ]
    },
    {
      "cell_type": "markdown",
      "metadata": {
        "id": "CZh-58l2Qwvu",
        "colab_type": "text"
      },
      "source": [
        "If entropy is high (encoding size $log_2 p(x)$ is big on average), it means we have many message types with small and almost equal probabilities. Hence, every time a new message arrives, you would expect a different type than previous messages. You may see it as a disorder or uncertainty or unpredictability.\n",
        "\n",
        "On the contrary, when a message has much smaller probability than other message, it appears as a surprise because on average you would expect other more frequently sent message types. Moreover, a rare message type has more information than more frequent message types because it eliminates a lot of other probabilities and tells us more specific information.\n",
        "\n",
        "In the drink scenario, by sending “Wine” on thursday which happens 1.2% of the times, we are reducing the uncertainty by 98.8% of the probability distribution (“Midori, Daiquiri, Spritz”) provided we had no information before. If we were sending “Midori” (95%) instead, we would be reducing the uncertainty by 5% only.\n",
        "\n",
        "If the entropy is high (ex: fair coin), the average encoding size is significant which means each message tends to have more (specific) information. Again, this is why high entropy is associated with disorder, uncertainty, surprise, unpredictability, amount of information. The more random a message is, the more information will be gained from decoding the message.\n",
        "\n",
        "Low entropy (ex: sunrise) means that most of the times we are receiving the more predictable information which means less disorder, less uncertainty, less surprise, more predictability and less (specific) information. This is the Thursday case."
      ]
    },
    {
      "cell_type": "markdown",
      "metadata": {
        "id": "Fu6ZmWp5UGDa",
        "colab_type": "text"
      },
      "source": [
        "### Cross Entropy\n",
        "\n",
        "Suppose to have two distributions, the true one $p(x)$ and the estimated $q(x)$. In the language of neural networks, $p(x)$ would be the grond truth (labels in one hot-encoding) and $q(x)$ the outcome of the net, i.e. the one that your machine learning algorithm is trying to match. Cross entropy is a mathematical tool for comparing two probability distributions $p(x)$ and $q(x)$ and it is expressed by the formula \n",
        "\n",
        "$$ H (p,q) = - \\int p(x) \\log q(x)\\,dx.$$\n",
        "\n",
        "If $\\log$ is in base $2$, then cross entropy measures the number of bits you will need encoding symbols from $p$ using the wrong distribution $q$. Subtracting to cross entropy the entropy of $p$, you are counting the cost in terms of bits of using the wrong distribution $q$ (this somehow will be KL-divergence). "
      ]
    },
    {
      "cell_type": "markdown",
      "metadata": {
        "id": "60tieif3uc-l",
        "colab_type": "text"
      },
      "source": [
        "### Kullback-Leibler Divergence\n",
        "\n",
        "KL-divergence is just a slight modification of our formula for entropy. Rather than just having our probability distribution $h$ we add into the game our approximating distribution $g$. Then we look at the difference of the log values for each\n",
        "\n",
        "$$D_{KL}(h || g) = - \\sum_i h(x_i) (\\log h(x) - \\log g(x)) = - \\sum_i h(x_i) \\log \\frac{h(x)}{g(x)}$$ \n",
        "\n",
        "KL-divergence is the expectation of the log-difference between the probability of data in the original distribution $h$ with the approximating distribution $g$. Again, if we think in terms of $\\log_2$ we can interpret this as how many bits of information we expect to lose when we choose an approximation $g$ of our original ditribution $h$. \n",
        "\n",
        "In the variational autoencoder loss function, the KL-divergence is used to force the distribution of latent variables $q(z | x)$ to be a normal distribution $n(z)$ so that we can sample latent variables from the normal distribution. As such, the KL-divergence is included in the loss function to improve the similarity between the distribution of latent variables and the normal distribution. More about **KL** can be found [here](https://towardsdatascience.com/demystifying-kl-divergence-7ebe4317ee68) and about **cross-entropy** [here](https://towardsdatascience.com/demystifying-cross-entropy-e80e3ad54a8)."
      ]
    },
    {
      "cell_type": "markdown",
      "metadata": {
        "id": "r9unYqYhn3bQ",
        "colab_type": "text"
      },
      "source": [
        "##  Autoencoder vs Variational Autoencoder\n",
        "\n",
        "<center>  \n",
        "<p>      \n",
        "<img src=https://drive.google.com/uc?id=1QdiSESYkbNnigrbH-GutlGtRuC6QbGpw  width=\"800\" height=\"250\">  \n",
        "<img src=https://drive.google.com/uc?id=1IiuzC8YeZ_MXJsYg1BgJV-o3VMoQUGvI width=\"800\" height=\"250\">    \n",
        " <p>\n",
        "</center> "
      ]
    },
    {
      "cell_type": "markdown",
      "metadata": {
        "id": "sTdh_cy0vCgI",
        "colab_type": "text"
      },
      "source": [
        "## <h1><center> Coding our Denoising VAE\n",
        "\n",
        "### Importing Data and Add some Gaussian Noise"
      ]
    },
    {
      "cell_type": "code",
      "metadata": {
        "id": "IAo8-jgvXp5X",
        "colab_type": "code",
        "outputId": "9c27d079-028d-4178-98bb-a198f5ed4ca1",
        "colab": {
          "base_uri": "https://localhost:8080/",
          "height": 50
        }
      },
      "source": [
        "(train_images, _), (test_images, _) = tf.keras.datasets.mnist.load_data()\n",
        "\n",
        "train_images = train_images.reshape(train_images.shape[0], 28, 28, 1).astype('float32')\n",
        "test_images = test_images.reshape(test_images.shape[0], 28, 28, 1).astype('float32')\n",
        "\n",
        "\n",
        "# Normalizing the images to the range of [0., 1.]\n",
        "train_images /= 255.\n",
        "test_images /= 255.\n",
        "\n",
        "\n",
        "print(\"train_images.shape: \", train_images.shape)\n",
        "print(\"test_images.shape: \", test_images.shape)\n",
        "\n",
        "noise_variance = 0.2\n",
        "train_images_noisy = train_images + np.random.normal(0, noise_variance, (train_images.shape[0], train_images.shape[1],train_images.shape[2],train_images.shape[3])).astype('float32')\n",
        "test_images_noisy = test_images + np.random.normal(0, noise_variance, (test_images.shape[0], test_images.shape[1],test_images.shape[2], test_images.shape[3])).astype('float32')\n",
        "\n",
        "\n"
      ],
      "execution_count": 0,
      "outputs": [
        {
          "output_type": "stream",
          "text": [
            "train_images.shape:  (60000, 28, 28, 1)\n",
            "test_images.shape:  (10000, 28, 28, 1)\n"
          ],
          "name": "stdout"
        }
      ]
    },
    {
      "cell_type": "code",
      "metadata": {
        "id": "R5eUWp3puiQy",
        "colab_type": "code",
        "outputId": "8704bef6-dfc5-4394-aad0-53c811a715a7",
        "colab": {
          "base_uri": "https://localhost:8080/",
          "height": 269
        }
      },
      "source": [
        "image = train_images[0]\n",
        "image = np.array(image, dtype='float')\n",
        "pixels = image.reshape((28, 28))\n",
        "plt.imshow(pixels, cmap='gray')\n",
        "plt.show()"
      ],
      "execution_count": 0,
      "outputs": [
        {
          "output_type": "display_data",
          "data": {
            "image/png": "[encoded data removed]",
            "text/plain": [
              "<Figure size 432x288 with 1 Axes>"
            ]
          },
          "metadata": {
            "tags": []
          }
        }
      ]
    },
    {
      "cell_type": "code",
      "metadata": {
        "id": "6VVekOGyuvC8",
        "colab_type": "code",
        "outputId": "d40447b3-8ad1-448c-cbe6-2d534877c5be",
        "colab": {
          "base_uri": "https://localhost:8080/",
          "height": 269
        }
      },
      "source": [
        "noisy_image = train_images_noisy[0]\n",
        "noisy_image = np.array(noisy_image, dtype='float')\n",
        "pixels = noisy_image.reshape((28, 28))\n",
        "plt.imshow(pixels, cmap='gray')\n",
        "plt.show()"
      ],
      "execution_count": 0,
      "outputs": [
        {
          "output_type": "display_data",
          "data": {
            "image/png": "[encoded data removed]",
            "text/plain": [
              "<Figure size 432x288 with 1 Axes>"
            ]
          },
          "metadata": {
            "tags": []
          }
        }
      ]
    },
    {
      "cell_type": "markdown",
      "metadata": {
        "id": "dUiwN-nKvTgu",
        "colab_type": "text"
      },
      "source": [
        "### Transforming Data in TF Dataset Object"
      ]
    },
    {
      "cell_type": "code",
      "metadata": {
        "id": "giJ1nXn6lWFx",
        "colab_type": "code",
        "colab": {}
      },
      "source": [
        "BATCH_SIZE = 128\n",
        "\n",
        "train_dataset = tf.data.Dataset.from_tensor_slices(train_images).batch(BATCH_SIZE)\n",
        "train_dataset_noisy = tf.data.Dataset.from_tensor_slices(train_images_noisy).batch(BATCH_SIZE)\n",
        "\n",
        "test_dataset = tf.data.Dataset.from_tensor_slices(test_images).batch(BATCH_SIZE)\n",
        "test_dataset_noisy = tf.data.Dataset.from_tensor_slices(test_images_noisy).batch(BATCH_SIZE)"
      ],
      "execution_count": 0,
      "outputs": []
    },
    {
      "cell_type": "markdown",
      "metadata": {
        "id": "MRFj2SCq0fz9",
        "colab_type": "text"
      },
      "source": [
        "### Using Class to define a Model (From TensorFlow Official Page)\n",
        "\n",
        "   \n",
        "```python\n",
        "class MyModel(tf.keras.Model):\n",
        "\n",
        "  def __init__(self):\n",
        "    super(MyModel, self).__init__()\n",
        "    self.dense1 = tf.keras.layers.Dense(4, activation=tf.nn.relu)\n",
        "    self.dense2 = tf.keras.layers.Dense(5, activation=tf.nn.softmax)\n",
        "\n",
        "  def call(self, inputs):\n",
        "    x = self.dense1(inputs)\n",
        "    return self.dense2(x)\n",
        "\n",
        "model = MyModel()\n",
        "```\n"
      ]
    },
    {
      "cell_type": "markdown",
      "metadata": {
        "id": "i776XcCtxdKe",
        "colab_type": "text"
      },
      "source": [
        "### Defining our Variational Autoencoder Model\n",
        "<center>  <img src=https://drive.google.com/uc?id=14dNERtYBOiyEq3cPOUFObUe6Ul4cn_r0  \" width=\"800\">  </center> "
      ]
    },
    {
      "cell_type": "code",
      "metadata": {
        "id": "YHt8wvBDl-1S",
        "colab_type": "code",
        "colab": {}
      },
      "source": [
        "\n",
        "class VAutoEncoder(tf.keras.Model):\n",
        "  def __init__(self, latent_dim):\n",
        "    \n",
        "    super(VAutoEncoder, self).__init__()\n",
        "    self.latent_dim = latent_dim\n",
        "    \n",
        "    # Encoder\n",
        "    self.encoder_net = tf.keras.Sequential(\n",
        "      [\n",
        "          tf.keras.layers.InputLayer(input_shape=(28, 28, 1)),\n",
        "          tf.keras.layers.Conv2D(\n",
        "              filters=3, kernel_size=10, strides=(2, 2), padding=\"SAME\", activation=tf.nn.relu),\n",
        "          tf.keras.layers.Conv2D(\n",
        "              filters=3, kernel_size=3, strides=(2, 2), padding=\"SAME\", activation=tf.nn.relu),\n",
        "          tf.keras.layers.Flatten(),\n",
        "          # No activation\n",
        "          tf.keras.layers.Dense(latent_dim + latent_dim),\n",
        "      ]\n",
        "    )\n",
        "\n",
        "    # Decoder\n",
        "    self.decoder_net = tf.keras.Sequential(\n",
        "        [\n",
        "          tf.keras.layers.InputLayer(input_shape=(latent_dim,)),\n",
        "          tf.keras.layers.Dense(units=7*7*32, activation=tf.nn.relu),\n",
        "          tf.keras.layers.Reshape(target_shape=(7, 7, 32)),\n",
        "          tf.keras.layers.Conv2DTranspose(filters=3, kernel_size=3, strides=(2, 2), \n",
        "              padding=\"SAME\",\n",
        "              activation=tf.nn.relu),\n",
        "          tf.keras.layers.Conv2DTranspose(filters=3, kernel_size=10, strides=(2, 2),\n",
        "              padding=\"SAME\",\n",
        "              activation=tf.nn.relu),\n",
        "          \n",
        "          # No activation\n",
        "          tf.keras.layers.Conv2DTranspose(\n",
        "              filters=1, kernel_size=3, strides=(1, 1), padding=\"SAME\"),\n",
        "        ]\n",
        "    )\n",
        "\n",
        "  def sample(self, eps=None):\n",
        "    if eps is None:\n",
        "      eps = tf.random.normal(shape=(100, self.latent_dim))\n",
        "    return self.decode(eps, apply_sigmoid=True)\n",
        "\n",
        "  def encode(self, x):\n",
        "    mean, logvar = tf.split(self.encoder_net(x), num_or_size_splits=2, axis=1)\n",
        "    return mean, logvar\n",
        "\n",
        "  def reparameterize(self, mean, logvar):\n",
        "    eps = tf.random.normal(shape=mean.shape)\n",
        "    return eps * tf.exp(logvar * .5) + mean\n",
        "\n",
        "  def decode(self, z, apply_sigmoid=False):\n",
        "    logits = self.decoder_net(z)\n",
        "    if apply_sigmoid:\n",
        "      probs = tf.sigmoid(logits)\n",
        "      return probs\n",
        "\n",
        "    return logits"
      ],
      "execution_count": 0,
      "outputs": []
    },
    {
      "cell_type": "markdown",
      "metadata": {
        "id": "rA6194-1XLsy",
        "colab_type": "text"
      },
      "source": [
        "### Gaussian Distribution and Loss Function\n",
        "\n",
        "The Gaussian distribution is defined by\n",
        "\n",
        "$$ N (x\\mid \\mu ,\\sigma ^{2})={\\frac {1}{\\sqrt {2\\pi \\sigma ^{2}}}}e^{-{\\frac {(x-\\mu )^{2}}{2\\sigma ^{2}}}} .$$\n",
        "\n",
        "\n",
        "Taking its log we obtain\n",
        "\n",
        "$$ \\log N (x\\mid \\mu ,\\sigma ^{2})= - \\frac{1}{2} \\left( \\log2\\pi  + \\log \\sigma ^2  +  \\frac {(x-\\mu )^{2}}{\\sigma ^{2}}\\right) = - \\frac{1}{2} \\left( \\log2\\pi  + \\log\\sigma ^2 +  (x-\\mu )^{2} \\exp (- \\log\\sigma^2)\\right).$$\n",
        "\n",
        "The loss function of a VAE is\n",
        "\n",
        "$$l_i(\\theta, \\phi) = - \\mathbb{E}_{\\,z\\sim q_{\\theta}(z | x_i)} \\left[ \\log p_{\\phi}(x_i|z) \\right] + \\mathbb K \\mathbb L ( q_{\\theta}(x_i | z) \\, || \\, n(z) ),$$ \n",
        "\n",
        "where the first term is the reconstruction loss, or expected negative log-likelihood of the $i$-th datapoint, while the second is the KL-divergence. The former encourages the decoder to learn to reconstruct the data.The latter is a regularizer that forces the encoder’s distribution to be as much as possible similar to a Gaussian distribution.The final total loss function is $L =\\frac{1}{N} \\sum_i l_i$.\n",
        "\n",
        "  \n",
        "  <center>  <img src=https://drive.google.com/uc?id=1_UmDN6a2I2bktY4nVgT1N2uC-pFxoXo_ \" width=\"800\">  </center> "
      ]
    },
    {
      "cell_type": "code",
      "metadata": {
        "id": "IHdnFL_wGeAj",
        "colab_type": "code",
        "colab": {}
      },
      "source": [
        "optimizer = tf.keras.optimizers.Adam(1e-4)\n",
        "\n",
        "def log_normal_pdf(sample, mean, logvar, raxis=1):\n",
        "    log2pi = tf.math.log(2. * np.pi)\n",
        "    return tf.reduce_sum(\n",
        "        -.5 * ((sample - mean) ** 2. * tf.exp(-logvar) + logvar + log2pi),\n",
        "        axis=raxis)\n",
        "\n",
        "def compute_loss(model, x_input, x_target):\n",
        "    mean, logvar = model.encode(x_input)\n",
        "    # This is the key ingredient!\n",
        "    z = model.reparameterize(mean, logvar)\n",
        "    x_logit = model.decode(z)\n",
        "\n",
        "    cross_ent = tf.nn.sigmoid_cross_entropy_with_logits(logits=x_logit, labels=x_target)\n",
        "    logpx_z = -tf.reduce_sum(cross_ent, axis=[1, 2, 3])\n",
        "    logpz = log_normal_pdf(z, 0., 0.)\n",
        "    logqz_x = log_normal_pdf(z, mean, logvar)\n",
        "    return -tf.reduce_mean(logpx_z + logpz - logqz_x)\n",
        "\n",
        "def compute_gradients(model, x_input, x_target):\n",
        "    with tf.GradientTape() as tape:\n",
        "      loss = compute_loss(model, x_input, x_target)\n",
        "    return tape.gradient(loss, model.trainable_variables), loss\n",
        "\n",
        "def apply_gradients(optimizer, gradients, variables):\n",
        "    optimizer.apply_gradients(zip(gradients, variables))\n"
      ],
      "execution_count": 0,
      "outputs": []
    },
    {
      "cell_type": "markdown",
      "metadata": {
        "id": "ww8drbMT1enI",
        "colab_type": "text"
      },
      "source": [
        "### Defining Training Parameters"
      ]
    },
    {
      "cell_type": "code",
      "metadata": {
        "id": "guH1kqSH44is",
        "colab_type": "code",
        "colab": {}
      },
      "source": [
        "epochs = 10\n",
        "latent_dim = 50\n",
        "num_examples_to_generate = 16\n",
        "\n",
        "# keeping the random vector constant for generation (prediction) so\n",
        "# it will be easier to see the improvement.\n",
        "random_vector_for_generation = tf.random.normal(\n",
        "    shape=[num_examples_to_generate, latent_dim])\n",
        "\n",
        "\n",
        "model = VAutoEncoder(latent_dim)"
      ],
      "execution_count": 0,
      "outputs": []
    },
    {
      "cell_type": "code",
      "metadata": {
        "id": "mFO3S-AZ0L7q",
        "colab_type": "code",
        "colab": {}
      },
      "source": [
        "#random_vector_for_generation"
      ],
      "execution_count": 0,
      "outputs": []
    },
    {
      "cell_type": "code",
      "metadata": {
        "id": "-hIAa0YA5KWf",
        "colab_type": "code",
        "colab": {}
      },
      "source": [
        "def generate_and_save_images(model, epoch, test_input):\n",
        "  predictions = model.sample(test_input)\n",
        "  fig = plt.figure(figsize=(4,4))\n",
        "\n",
        "  for i in range(predictions.shape[0]):\n",
        "      plt.subplot(4, 4, i+1)\n",
        "      plt.imshow(predictions[i, :, :, 0], cmap='gray')\n",
        "      plt.axis('off')\n",
        "\n",
        "  # tight_layout minimizes the overlap between 2 sub-plots\n",
        "  #plt.savefig('image_at_epoch_{:04d}.png'.format(epoch))\n",
        "  plt.show()\n",
        "  \n",
        "def original_image(model, images):\n",
        "  \n",
        "  fig = plt.figure(figsize=(4,4))\n",
        "\n",
        "  for i in range(images.shape[0]):\n",
        "      plt.subplot(2, 2, i+1)\n",
        "      plt.imshow(images[i, :, :, 0], cmap='gray')\n",
        "      plt.axis('off')\n",
        "\n",
        "  # tight_layout minimizes the overlap between 2 sub-plots\n",
        "  #plt.savefig('image_at_epoch_{:04d}.png'.format(epoch))\n",
        "  plt.show()\n",
        "\n",
        "  \n",
        "def clean_images(model, test_input):\n",
        "  \n",
        "  mean, logvar = model.encode(test_input)\n",
        "  z = model.reparameterize(mean, logvar)\n",
        "  predictions = model.decode(z, apply_sigmoid=True)\n",
        "  #predictions = model.sample(test_input)\n",
        "  fig = plt.figure(figsize=(4,4))\n",
        "\n",
        "  for i in range(predictions.shape[0]):\n",
        "      plt.subplot(2, 2, i+1)\n",
        "      plt.imshow(predictions[i, :, :, 0], cmap='gray')\n",
        "      plt.axis('off')\n",
        "\n",
        "  # tight_layout minimizes the overlap between 2 sub-plots\n",
        "  #plt.savefig('image_at_epoch_{:04d}.png'.format(epoch))\n",
        "  plt.show()"
      ],
      "execution_count": 0,
      "outputs": []
    },
    {
      "cell_type": "code",
      "metadata": {
        "id": "uX7uZtM65Qv6",
        "colab_type": "code",
        "outputId": "5cb5748d-e50a-450c-d928-7e5ffb1f04cb",
        "colab": {
          "base_uri": "https://localhost:8080/",
          "height": 34
        }
      },
      "source": [
        "#generate_and_save_images(model, 0, random_vector_for_generation)\n",
        "\n",
        "\n",
        "for epoch in range(1, epochs + 1):\n",
        "  start_time = time.time()\n",
        "  for train_x_noisy, train_x in zip(train_dataset_noisy, train_dataset):\n",
        "    gradients, loss = compute_gradients(model, train_x_noisy, train_x)\n",
        "    apply_gradients(optimizer, gradients, model.trainable_variables)\n",
        "  end_time = time.time()\n",
        "\n",
        "  if epoch % 1 == 0:\n",
        "    loss = tf.keras.metrics.Mean()\n",
        "    for test_x_noisy, test_x in zip(test_dataset_noisy, test_dataset):\n",
        "      loss(compute_loss(model, test_x_noisy,  test_x))\n",
        "    elbo = -loss.result()\n",
        "    display.clear_output(wait=False)\n",
        "    print('Epoch: {}, Test set ELBO: {}, '\n",
        "          'time elapse for current epoch {}'.format(epoch,\n",
        "                                                    elbo,\n",
        "                                                    end_time - start_time))\n",
        "#    generate_and_save_images(\n",
        "#        model, epoch, random_vector_for_generation)\n",
        "    \n",
        "\n"
      ],
      "execution_count": 0,
      "outputs": [
        {
          "output_type": "stream",
          "text": [
            "Epoch: 10, Test set ELBO: -152.4878692626953, time elapse for current epoch 13.718701362609863\n"
          ],
          "name": "stdout"
        }
      ]
    },
    {
      "cell_type": "code",
      "metadata": {
        "id": "UqgCV4edrkYi",
        "colab_type": "code",
        "outputId": "d7c05342-c46e-4158-d961-316e522cc06c",
        "colab": {
          "base_uri": "https://localhost:8080/",
          "height": 165
        }
      },
      "source": [
        "test_dataset_to_be_cleaned = tf.data.Dataset.from_tensor_slices(test_images_noisy).batch(4)\n",
        "\n",
        "\n",
        "cnt = 0\n",
        "\n",
        "for images in test_dataset_to_be_cleaned:\n",
        "  #print(image.shape)\n",
        "  original_image(model, images)\n",
        "  clean_images(model, images)\n",
        "  time.sleep(5)\n",
        "  display.clear_output(wait=False)\n",
        "  cnt += 1\n",
        "  if cnt > 10:\n",
        "    sys.exit()"
      ],
      "execution_count": 0,
      "outputs": [
        {
          "output_type": "error",
          "ename": "SystemExit",
          "evalue": "ignored",
          "traceback": [
            "An exception has occurred, use %tb to see the full traceback.\n",
            "\u001b[0;31mSystemExit\u001b[0m\n"
          ]
        },
        {
          "output_type": "stream",
          "text": [
            "/usr/local/lib/python3.6/dist-packages/IPython/core/interactiveshell.py:2890: UserWarning: To exit: use 'exit', 'quit', or Ctrl-D.\n",
            "  warn(\"To exit: use 'exit', 'quit', or Ctrl-D.\", stacklevel=1)\n"
          ],
          "name": "stderr"
        }
      ]
    },
    {
      "cell_type": "code",
      "metadata": {
        "id": "5gaiT2Ru7sUM",
        "colab_type": "code",
        "colab": {}
      },
      "source": [
        ""
      ],
      "execution_count": 0,
      "outputs": []
    }
  ]
}